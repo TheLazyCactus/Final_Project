{
 "cells": [
  {
   "cell_type": "code",
   "execution_count": 39,
   "metadata": {},
   "outputs": [],
   "source": [
    "import pandas as pd\n",
    "\n",
    "user_data = pd.read_excel(r\"D:\\Documents\\GitHub\\Final_Project\\user_input_sample.xlsx\")\n",
    "reference = pd.read_excel(r\"D:\\Documents\\GitHub\\Final_Project\\reference_sample.xlsx\")\n",
    "master = pd.read_csv(r\"D:\\Documents\\GitHub\\Final_Project\\master_data_sample.csv\")\n",
    "\n",
    "\n"
   ]
  },
  {
   "cell_type": "code",
   "execution_count": null,
   "metadata": {},
   "outputs": [],
   "source": [
    "#compare product column between user_data and reference then put according data in master\n",
    "columns_to_merge = [col for col in reference.columns if col != 'product']\n",
    "\n",
    "# Merge using the common column\n",
    "df = user_data.merge(reference, on='product', how='left')\n"
   ]
  },
  {
   "cell_type": "code",
   "execution_count": null,
   "metadata": {},
   "outputs": [],
   "source": [
    "#calculate the specific weight and footprint\n",
    "df[\"weight\"] = df[\"price\"]/ df[\"€/kg\"] \n",
    "df['total_kg_co2'] = df['footprint_kg'] * df[\"weight\"] /1000\n",
    "df['total_kg_co2_farming'] = df['farming_kg'] * df[\"weight\"] /1000\n",
    "df['total_kg_co2_processing'] = df['processing_kg'] * df[\"weight\"] /1000\n",
    "df['total_kg_co2_packaging'] = df['packaging_kg'] * df[\"weight\"] /1000\n",
    "df['total_kg_co2_transport'] = df['transport_kg'] * df[\"weight\"] /1000\n",
    "df['total_kg_co2_retail'] = df['retail_kg'] * df[\"weight\"] /1000\n",
    "df['total_kg_co2_consumption'] = df['consumption_kg'] * df[\"weight\"] /1000"
   ]
  },
  {
   "cell_type": "code",
   "execution_count": null,
   "metadata": {},
   "outputs": [],
   "source": [
    "#select only the relevant columns in the ,aster file\n",
    "columns_to_keep = [\"date\",\"product_family\",\"product\", \"weight\",\"price\",\"link\",\t\"total_kg_co2\",\t\"total_kg_co2_farming\",\t\"total_kg_co2_processing\",\t\"total_kg_co2_packaging\",\t\"total_kg_co2_transport\",\t\"total_kg_co2_retail\",\t\"total_kg_co2_consumption\"] \n",
    "\n",
    "filtered_df = df[columns_to_keep]\n",
    "updated_df = pd.concat([master, filtered_df]).drop_duplicates(subset=['date', 'product'], keep='first')\n",
    "\n",
    "updated_df.to_csv(r\"D:\\Documents\\GitHub\\Final_Project\\master_data_sample.xlsx\", index=False)"
   ]
  }
 ],
 "metadata": {
  "kernelspec": {
   "display_name": "base",
   "language": "python",
   "name": "python3"
  },
  "language_info": {
   "codemirror_mode": {
    "name": "ipython",
    "version": 3
   },
   "file_extension": ".py",
   "mimetype": "text/x-python",
   "name": "python",
   "nbconvert_exporter": "python",
   "pygments_lexer": "ipython3",
   "version": "3.12.4"
  }
 },
 "nbformat": 4,
 "nbformat_minor": 2
}
