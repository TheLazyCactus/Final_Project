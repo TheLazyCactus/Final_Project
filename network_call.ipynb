{
 "cells": [
  {
   "cell_type": "markdown",
   "metadata": {},
   "source": [
    "Do a for loop on page to extract all the page from that specific rayon"
   ]
  },
  {
   "cell_type": "code",
   "execution_count": null,
   "metadata": {},
   "outputs": [],
   "source": [
    "import requests\n",
    "\n",
    "cookies = {\n",
    "    '__cf_bm': '4jwRkKKJnBVIF2IMGGYpcuoSRQh5ey0a0_uRmcZTeKY-1742655462-1.0.1.1-2I4n7hBhNx4Nv1vWBE1Ikz2oBEzAPt.vrXRiPRgEjFb87xj2hyB8HG_jWveUBQ0XyvUCcotHStiy2U0zmyWuPZMMUbv5wBXTMBNrzzuG5bQ',\n",
    "    'tc_cj_v2_cmp': '',\n",
    "    'tc_cj_v2_med': '',\n",
    "    'tc_ts': '40',\n",
    "    'tc_eff_params': '',\n",
    "    'FRONTONE_ONLINE': '1745247464',\n",
    "    'FRONTONE_SESSION_ID': 'fe0e97616cc0dc73679f62b16fa7c577b2d86018',\n",
    "    'FRONTONE_SESSID': 'k8fgg2rdncsl03sndguqvv4ae0',\n",
    "    'tc_ab': '1',\n",
    "    'CAID': '202503221557457366701354',\n",
    "    'WID': 'e4daab8a-ce5a-43cc-89b5-9c8c79a3e66c',\n",
    "    'OptanonAlertBoxClosed': '2025-03-22T14:57:49.848Z',\n",
    "    'eupubconsent-v2': 'CQOq1pgQOq1pgAcABBENBiFwAAAAAAAAAChQAAAAAAChIAYAygF5gTAHQAwBlALzAmAOAAgSEJQAQF5lIAYAygF5gTAA.YAAAAAAAAAAA',\n",
    "    'OptanonConsent': 'isGpcEnabled=0&datestamp=Sat+Mar+22+2025+15%3A57%3A49+GMT%2B0100+(heure+normale+d%E2%80%99Europe+centrale)&version=202310.2.0&browserGpcFlag=0&isIABGlobal=false&hosts=&consentId=92a3e744-b25d-4e54-a023-8625a83bd02f&interactionCount=1&landingPath=NotLandingPage&groups=C0048%3A1%2CC0001%3A1%2CC0040%3A0%2CC0032%3A0%2CC0025%3A0%2CC0020%3A0%2CC0037%3A0%2CC0039%3A0%2CC0036%3A0%2CC0041%3A0%2CC0042%3A0%2CC0044%3A0%2CC0043%3A0%2CC0045%3A0%2CC0049%3A0%2CC0047%3A0%2CC0023%3A0%2CC0056%3A0%2CC0038%3A0%2CC0082%3A0%2CC0026%3A0%2CC0177%3A0%2CC0113%3A0%2CC0089%3A0%2CC0092%3A0%2CC0190%3A0%2CC0166%3A0%2CC0222%3A0%2CC0223%3A0%2CC0231%3A0%2CC0263%3A0%2CC0004%3A0%2CC0022%3A0%2CC0054%3A0%2CC0179%3A0%2CC0146%3A0%2CC0052%3A0%2CC0034%3A0%2CC0063%3A0%2CC0157%3A0%2CC0003%3A0%2CC0212%3A0%2CC0081%3A0%2CC0051%3A0%2CC0136%3A0%2CC0135%3A0%2CC0007%3A0%2CV2STACK42%3A0',\n",
    "    'OneTrustGroupsConsent': '%2CC0048%2CC0001%2C',\n",
    "    'pageCounterCrfOne': '2',\n",
    "    'tc_cj_v2': '%5Ecl_%5Dny%5B%5D%5D_mmZZZZZZKQNLPOONPSSJKZZZ%5D',\n",
    "    'aaaaaaaaa944fac35b02f4d9a99619247b88ad463_cs': 'MWIwM2RlMmUtMzlhZi00NDQyLTk3ZWUtNjkwMGI2OGUwMzk4',\n",
    "    'carrefour_counter': '1742655474498%7C14143517755422%7Cp0%7Ce0%7Cv1%7Cc254.37%7CServerSide',\n",
    "}\n",
    "\n",
    "headers = {\n",
    "    'accept': 'application/json, text/plain, */*',\n",
    "    'accept-language': 'fr-FR,fr;q=0.9,en-US;q=0.8,en;q=0.7',\n",
    "    'priority': 'u=1, i',\n",
    "    'referer': 'https://www.carrefour.fr/r/viandes-et-poissons?noRedirect=1&page=1',\n",
    "    'sec-ch-ua': '\"Chromium\";v=\"134\", \"Not:A-Brand\";v=\"24\", \"Google Chrome\";v=\"134\"',\n",
    "    'sec-ch-ua-mobile': '?0',\n",
    "    'sec-ch-ua-platform': '\"Windows\"',\n",
    "    'sec-fetch-dest': 'empty',\n",
    "    'sec-fetch-mode': 'cors',\n",
    "    'sec-fetch-site': 'same-origin',\n",
    "    'user-agent': 'Mozilla/5.0 (Windows NT 10.0; Win64; x64) AppleWebKit/537.36 (KHTML, like Gecko) Chrome/134.0.0.0 Safari/537.36',\n",
    "    'x-kl-saas-ajax-request': 'Ajax_Request',\n",
    "    'x-requested-with': 'XMLHttpRequest',\n",
    "    # 'cookie': '__cf_bm=4jwRkKKJnBVIF2IMGGYpcuoSRQh5ey0a0_uRmcZTeKY-1742655462-1.0.1.1-2I4n7hBhNx4Nv1vWBE1Ikz2oBEzAPt.vrXRiPRgEjFb87xj2hyB8HG_jWveUBQ0XyvUCcotHStiy2U0zmyWuPZMMUbv5wBXTMBNrzzuG5bQ; tc_cj_v2_cmp=; tc_cj_v2_med=; tc_ts=40; tc_eff_params=; FRONTONE_ONLINE=1745247464; FRONTONE_SESSION_ID=fe0e97616cc0dc73679f62b16fa7c577b2d86018; FRONTONE_SESSID=k8fgg2rdncsl03sndguqvv4ae0; tc_ab=1; CAID=202503221557457366701354; WID=e4daab8a-ce5a-43cc-89b5-9c8c79a3e66c; OptanonAlertBoxClosed=2025-03-22T14:57:49.848Z; eupubconsent-v2=CQOq1pgQOq1pgAcABBENBiFwAAAAAAAAAChQAAAAAAChIAYAygF5gTAHQAwBlALzAmAOAAgSEJQAQF5lIAYAygF5gTAA.YAAAAAAAAAAA; OptanonConsent=isGpcEnabled=0&datestamp=Sat+Mar+22+2025+15%3A57%3A49+GMT%2B0100+(heure+normale+d%E2%80%99Europe+centrale)&version=202310.2.0&browserGpcFlag=0&isIABGlobal=false&hosts=&consentId=92a3e744-b25d-4e54-a023-8625a83bd02f&interactionCount=1&landingPath=NotLandingPage&groups=C0048%3A1%2CC0001%3A1%2CC0040%3A0%2CC0032%3A0%2CC0025%3A0%2CC0020%3A0%2CC0037%3A0%2CC0039%3A0%2CC0036%3A0%2CC0041%3A0%2CC0042%3A0%2CC0044%3A0%2CC0043%3A0%2CC0045%3A0%2CC0049%3A0%2CC0047%3A0%2CC0023%3A0%2CC0056%3A0%2CC0038%3A0%2CC0082%3A0%2CC0026%3A0%2CC0177%3A0%2CC0113%3A0%2CC0089%3A0%2CC0092%3A0%2CC0190%3A0%2CC0166%3A0%2CC0222%3A0%2CC0223%3A0%2CC0231%3A0%2CC0263%3A0%2CC0004%3A0%2CC0022%3A0%2CC0054%3A0%2CC0179%3A0%2CC0146%3A0%2CC0052%3A0%2CC0034%3A0%2CC0063%3A0%2CC0157%3A0%2CC0003%3A0%2CC0212%3A0%2CC0081%3A0%2CC0051%3A0%2CC0136%3A0%2CC0135%3A0%2CC0007%3A0%2CV2STACK42%3A0; OneTrustGroupsConsent=%2CC0048%2CC0001%2C; pageCounterCrfOne=2; tc_cj_v2=%5Ecl_%5Dny%5B%5D%5D_mmZZZZZZKQNLPOONPSSJKZZZ%5D; aaaaaaaaa944fac35b02f4d9a99619247b88ad463_cs=MWIwM2RlMmUtMzlhZi00NDQyLTk3ZWUtNjkwMGI2OGUwMzk4; carrefour_counter=1742655474498%7C14143517755422%7Cp0%7Ce0%7Cv1%7Cc254.37%7CServerSide',\n",
    "}\n",
    "\n",
    "params = {\n",
    "    'noRedirect': '1',\n",
    "    'page': '1',\n",
    "}\n",
    "\n",
    "response = requests.get('https://www.carrefour.fr/r/viandes-et-poissons', params=params, cookies=cookies, headers=headers)"
   ]
  }
 ],
 "metadata": {
  "language_info": {
   "name": "python"
  }
 },
 "nbformat": 4,
 "nbformat_minor": 2
}
