{
 "cells": [
  {
   "cell_type": "code",
   "execution_count": null,
   "metadata": {},
   "outputs": [],
   "source": [
    "import re\n",
    "\n",
    "def find_word_and_extract_number(text, word):\n",
    "    \"\"\"\n",
    "    This function searches for a specific word in a text string and extracts the first number that appears after it.\n",
    "\n",
    "    :param text: The text string to search within.\n",
    "    :param word: The word to search for.\n",
    "    :return: The first number found after the word, or None if the word or number is not found.\n",
    "    \"\"\"\n",
    "    # Convert both text and word to lowercase to make the search case-insensitive\n",
    "    text = text.lower()\n",
    "    word = word.lower()\n",
    "\n",
    "    # Find the starting index of the word in the text\n",
    "    start_index = text.find(word)\n",
    "    if start_index == -1:\n",
    "        return None  # Word not found in the text\n",
    "\n",
    "    # Extract the substring starting from the end of the word\n",
    "    substring = text[start_index + len(word):]\n",
    "\n",
    "    # Use regular expression to find the first number in the substring\n",
    "    match = re.search(r'\\d+', substring)\n",
    "    if match:\n",
    "        return int(match.group())\n",
    "    else:\n",
    "        return None  # No number found after the word\n",
    "\n",
    "# Example usage\n",
    "text = \"This is a sample text. The temperature is 25 degrees and the humidity is 40%.\"\n",
    "word = \"temperature\"\n",
    "\n",
    "number = find_word_and_extract_number(text, word)\n",
    "if number is not None:\n",
    "    print(f\"The first number after the word '{word}' is: {number}\")\n",
    "else:\n",
    "    print(f\"No number found after the word '{word}' in the text.\")\n"
   ]
  }
 ],
 "metadata": {
  "language_info": {
   "name": "python"
  }
 },
 "nbformat": 4,
 "nbformat_minor": 2
}
